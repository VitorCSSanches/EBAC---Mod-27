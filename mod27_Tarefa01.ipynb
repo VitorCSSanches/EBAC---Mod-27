{
 "cells": [
  {
   "cell_type": "markdown",
   "metadata": {},
   "source": [
    "![Cabec%CC%A7alho_notebook.png](cabecalho_notebook.png)"
   ]
  },
  {
   "cell_type": "markdown",
   "metadata": {},
   "source": [
    "# PCA - Tarefa 01: *HAR* com PCA\n",
    "\n",
    "Vamos trabalhar com a base da demonstração feita em aula, mas vamos explorar um pouco melhor como é o desempenho da árvore variando o número de componentes principais."
   ]
  },
  {
   "cell_type": "code",
   "execution_count": 10,
   "metadata": {},
   "outputs": [
    {
     "name": "stderr",
     "output_type": "stream",
     "text": [
      "C:\\Users\\tatos\\AppData\\Local\\Temp\\ipykernel_96000\\1248137250.py:13: FutureWarning: The squeeze argument has been deprecated and will be removed in a future version. Append .squeeze(\"columns\") to the call to squeeze.\n",
      "\n",
      "\n",
      "  features = pd.read_csv('features.txt', header=None, names=['nome_var'], squeeze=True, sep=\"#\")\n",
      "C:\\Users\\tatos\\AppData\\Local\\Temp\\ipykernel_96000\\1248137250.py:16: FutureWarning: The squeeze argument has been deprecated and will be removed in a future version. Append .squeeze(\"columns\") to the call to squeeze.\n",
      "\n",
      "\n",
      "  subject_train = pd.read_csv('subject_train.txt', header=None, names=['subject_id'], squeeze=True)\n",
      "C:\\Users\\tatos\\AppData\\Local\\Temp\\ipykernel_96000\\1248137250.py:20: FutureWarning: The squeeze argument has been deprecated and will be removed in a future version. Append .squeeze(\"columns\") to the call to squeeze.\n",
      "\n",
      "\n",
      "  subject_test = pd.read_csv('subject_test.txt', header=None, names=['subject_id'], squeeze=True)\n"
     ]
    }
   ],
   "source": [
    "import numpy as np\n",
    "import pandas as pd\n",
    "import matplotlib.pyplot as plt\n",
    "import seaborn as sns\n",
    "\n",
    "from sklearn.tree import DecisionTreeClassifier\n",
    "\n",
    "from sklearn.decomposition import PCA\n",
    "from sklearn.metrics import accuracy_score\n",
    "from sklearn.model_selection import cross_val_score\n",
    "from sklearn.model_selection import GridSearchCV\n",
    "\n",
    "features = pd.read_csv('features.txt', header=None, names=['nome_var'], squeeze=True, sep=\"#\")\n",
    "labels = pd.read_csv('activity_labels.txt', delim_whitespace=True, header=None, names=['cod_label', 'label'])\n",
    "\n",
    "subject_train = pd.read_csv('subject_train.txt', header=None, names=['subject_id'], squeeze=True)\n",
    "X_train = pd.read_csv('X_train.txt', delim_whitespace=True, header=None, names=features.tolist())\n",
    "y_train = pd.read_csv('y_train.txt', header=None, names=['cod_label'])\n",
    "\n",
    "subject_test = pd.read_csv('subject_test.txt', header=None, names=['subject_id'], squeeze=True)\n",
    "X_test = pd.read_csv('X_test.txt', delim_whitespace=True, header=None, names=features.tolist())\n",
    "y_test = pd.read_csv('y_test.txt', header=None, names=['cod_label'])"
   ]
  },
  {
   "cell_type": "markdown",
   "metadata": {},
   "source": [
    "## Árvore de decisão\n",
    "\n",
    "Rode uma árvore de decisão com todas as variáveis, utilizando o ```ccp_alpha=0.001```. Avalie a acurácia nas bases de treinamento e teste. Avalie o tempo de processamento."
   ]
  },
  {
   "cell_type": "code",
   "execution_count": 8,
   "metadata": {},
   "outputs": [
    {
     "name": "stdout",
     "output_type": "stream",
     "text": [
      "CPU times: total: 6.11 s\n",
      "Wall time: 6.73 s\n"
     ]
    }
   ],
   "source": [
    "%%time\n",
    "\n",
    "clf = DecisionTreeClassifier(random_state=1234, ccp_alpha=0.001).fit(X_train, y_train)"
   ]
  },
  {
   "cell_type": "code",
   "execution_count": 12,
   "metadata": {},
   "outputs": [
    {
     "name": "stdout",
     "output_type": "stream",
     "text": [
      "[0.9757889009793254]\n",
      "[0.8795385137427892]\n"
     ]
    }
   ],
   "source": [
    "train_scores = [clf.score(X_train, y_train)]\n",
    "test_scores = [clf.score(X_test, y_test)]\n",
    "\n",
    "print(train_scores)\n",
    "print(test_scores)"
   ]
  },
  {
   "cell_type": "markdown",
   "metadata": {},
   "source": [
    "## Árvore com PCA\n",
    "\n",
    "Faça uma análise de componemtes principais das variáveis originais. Utilize apenas uma componente. Faça uma árvore de decisão com esta componente como variável explicativa.\n",
    "\n",
    "- Avalie a acurácia nas bases de treinamento e teste\n",
    "- Avalie o tempo de processamento"
   ]
  },
  {
   "cell_type": "code",
   "execution_count": 13,
   "metadata": {},
   "outputs": [
    {
     "name": "stdout",
     "output_type": "stream",
     "text": [
      "CPU times: total: 1.17 s\n",
      "Wall time: 2.94 s\n"
     ]
    }
   ],
   "source": [
    "%%time\n",
    "prcomp = PCA(n_components=1).fit(X_train)\n",
    "\n",
    "pc_treino = prcomp.transform(X_train)\n",
    "pc_teste  = prcomp.transform(X_test)"
   ]
  },
  {
   "cell_type": "code",
   "execution_count": 14,
   "metadata": {},
   "outputs": [
    {
     "data": {
      "text/html": [
       "<div>\n",
       "<style scoped>\n",
       "    .dataframe tbody tr th:only-of-type {\n",
       "        vertical-align: middle;\n",
       "    }\n",
       "\n",
       "    .dataframe tbody tr th {\n",
       "        vertical-align: top;\n",
       "    }\n",
       "\n",
       "    .dataframe thead th {\n",
       "        text-align: right;\n",
       "    }\n",
       "</style>\n",
       "<table border=\"1\" class=\"dataframe\">\n",
       "  <thead>\n",
       "    <tr style=\"text-align: right;\">\n",
       "      <th></th>\n",
       "      <th>cp1</th>\n",
       "    </tr>\n",
       "  </thead>\n",
       "  <tbody>\n",
       "    <tr>\n",
       "      <th>0</th>\n",
       "      <td>-5.520280</td>\n",
       "    </tr>\n",
       "    <tr>\n",
       "      <th>1</th>\n",
       "      <td>-5.535350</td>\n",
       "    </tr>\n",
       "    <tr>\n",
       "      <th>2</th>\n",
       "      <td>-5.474988</td>\n",
       "    </tr>\n",
       "    <tr>\n",
       "      <th>3</th>\n",
       "      <td>-5.677232</td>\n",
       "    </tr>\n",
       "    <tr>\n",
       "      <th>4</th>\n",
       "      <td>-5.748749</td>\n",
       "    </tr>\n",
       "  </tbody>\n",
       "</table>\n",
       "</div>"
      ],
      "text/plain": [
       "        cp1\n",
       "0 -5.520280\n",
       "1 -5.535350\n",
       "2 -5.474988\n",
       "3 -5.677232\n",
       "4 -5.748749"
      ]
     },
     "execution_count": 14,
     "metadata": {},
     "output_type": "execute_result"
    }
   ],
   "source": [
    "n=1\n",
    "\n",
    "colunas = ['cp'+str(x+1) for x in list(range(n))]\n",
    "\n",
    "pc_train = pd.DataFrame(pc_treino[:,:n], columns = colunas)\n",
    "pc_test  = pd.DataFrame( pc_teste[:,:n], columns = colunas)\n",
    "\n",
    "pc_train.head()"
   ]
  },
  {
   "cell_type": "code",
   "execution_count": 15,
   "metadata": {},
   "outputs": [
    {
     "name": "stdout",
     "output_type": "stream",
     "text": [
      "CPU times: total: 10.8 s\n",
      "Wall time: 12.2 s\n"
     ]
    }
   ],
   "source": [
    "%%time\n",
    "clf = DecisionTreeClassifier(random_state=1234).fit(pc_train, y_train)\n",
    "\n",
    "caminho = DecisionTreeClassifier(random_state=2360873, min_samples_leaf=20).cost_complexity_pruning_path(pc_train, y_train)\n",
    "ccp_alphas, impurities = caminho.ccp_alphas, caminho.impurities\n",
    "\n",
    "ccp_alphas = np.unique(ccp_alphas[ccp_alphas>=0])\n",
    "\n",
    "clfs = []\n",
    "for ccp_alpha in ccp_alphas:\n",
    "    clf = DecisionTreeClassifier(random_state=2360873, ccp_alpha=ccp_alpha).fit(pc_train, y_train)\n",
    "    clfs.append(clf)"
   ]
  },
  {
   "cell_type": "code",
   "execution_count": 16,
   "metadata": {},
   "outputs": [
    {
     "name": "stdout",
     "output_type": "stream",
     "text": [
      "[0.35690968443960824]\n",
      "[0.3501866304716661]\n"
     ]
    }
   ],
   "source": [
    "train_scores = [clf.score(pc_train, y_train)]\n",
    "test_scores = [clf.score(pc_test, y_test)]\n",
    "\n",
    "print(train_scores)\n",
    "print(test_scores)"
   ]
  },
  {
   "cell_type": "markdown",
   "metadata": {},
   "source": [
    "## Testando o número de componentes\n",
    "\n",
    "Com base no código acima, teste a árvore de classificação com pelo menos as seguintes possibilidades de quantidades de componentes: ```[1, 2, 5, 10, 50]```. Avalie para cada uma delas:\n",
    "\n",
    "- Acurácia nas bases de treino e teste\n",
    "- Tempo de processamento\n"
   ]
  },
  {
   "cell_type": "code",
   "execution_count": 40,
   "metadata": {},
   "outputs": [
    {
     "name": "stdout",
     "output_type": "stream",
     "text": [
      "Acurácia da melhor árvore na base de treino:    49.5\n",
      "Acurácia da melhor árvore na base de teste:     46.9\n",
      "CPU times: total: 13.6 s\n",
      "Wall time: 14 s\n"
     ]
    },
    {
     "data": {
      "text/plain": [
       "DecisionTreeClassifier(ccp_alpha=0.0033813755807152734, random_state=2360873)"
      ]
     },
     "execution_count": 40,
     "metadata": {},
     "output_type": "execute_result"
    }
   ],
   "source": [
    "%%time\n",
    "prcomp = PCA().fit(X_train)\n",
    "\n",
    "n=1\n",
    "\n",
    "colunas = ['cp'+str(x+1) for x in list(range(n))]\n",
    "\n",
    "pc_train = pd.DataFrame(pc_treino[:,:n], columns = colunas)\n",
    "pc_test  = pd.DataFrame( pc_teste[:,:n], columns = colunas)\n",
    "\n",
    "\n",
    "pc_treino = prcomp.transform(X_train)\n",
    "pc_teste  = prcomp.transform(X_test)\n",
    "\n",
    "clf = DecisionTreeClassifier(random_state=1234).fit(pc_train, y_train)\n",
    "\n",
    "caminho = DecisionTreeClassifier(random_state=2360873, min_samples_leaf=20).cost_complexity_pruning_path(pc_train, y_train)\n",
    "ccp_alphas, impurities = caminho.ccp_alphas, caminho.impurities\n",
    "\n",
    "ccp_alphas = np.unique(ccp_alphas[ccp_alphas>=0])\n",
    "\n",
    "clfs = []\n",
    "for ccp_alpha in ccp_alphas:\n",
    "    clf = DecisionTreeClassifier(random_state=2360873, ccp_alpha=ccp_alpha).fit(pc_train, y_train)\n",
    "    clfs.append(clf)\n",
    "    \n",
    "train_scores = [clf.score(pc_train, y_train) for clf in clfs]\n",
    "test_scores = [clf.score(pc_test, y_test) for clf in clfs]\n",
    "\n",
    "ind_melhor_arvore = len(test_scores) - test_scores[::-1].index(max(test_scores)) - 1\n",
    "melhor_arvore = clfs[ind_melhor_arvore]\n",
    "\n",
    "print(f'Acurácia da melhor árvore na base de treino:    {train_scores[ind_melhor_arvore]*100:.1f}')\n",
    "print(f'Acurácia da melhor árvore na base de teste:     {melhor_arvore.score(pc_test, y_test)*100:.1f}')\n",
    "\n",
    "melhor_arvore"
   ]
  },
  {
   "cell_type": "code",
   "execution_count": 41,
   "metadata": {},
   "outputs": [
    {
     "name": "stdout",
     "output_type": "stream",
     "text": [
      "Acurácia da melhor árvore na base de treino:    60.4\n",
      "Acurácia da melhor árvore na base de teste:     59.2\n",
      "CPU times: total: 14 s\n",
      "Wall time: 14.3 s\n"
     ]
    },
    {
     "data": {
      "text/plain": [
       "DecisionTreeClassifier(ccp_alpha=0.0015831630815527943, random_state=2360873)"
      ]
     },
     "execution_count": 41,
     "metadata": {},
     "output_type": "execute_result"
    }
   ],
   "source": [
    "%%time\n",
    "prcomp = PCA().fit(X_train)\n",
    "\n",
    "n=2\n",
    "\n",
    "colunas = ['cp'+str(x+1) for x in list(range(n))]\n",
    "\n",
    "pc_train = pd.DataFrame(pc_treino[:,:n], columns = colunas)\n",
    "pc_test  = pd.DataFrame( pc_teste[:,:n], columns = colunas)\n",
    "\n",
    "\n",
    "pc_treino = prcomp.transform(X_train)\n",
    "pc_teste  = prcomp.transform(X_test)\n",
    "\n",
    "clf = DecisionTreeClassifier(random_state=1234).fit(pc_train, y_train)\n",
    "\n",
    "caminho = DecisionTreeClassifier(random_state=2360873, min_samples_leaf=20).cost_complexity_pruning_path(pc_train, y_train)\n",
    "ccp_alphas, impurities = caminho.ccp_alphas, caminho.impurities\n",
    "\n",
    "ccp_alphas = np.unique(ccp_alphas[ccp_alphas>=0])\n",
    "\n",
    "clfs = []\n",
    "for ccp_alpha in ccp_alphas:\n",
    "    clf = DecisionTreeClassifier(random_state=2360873, ccp_alpha=ccp_alpha).fit(pc_train, y_train)\n",
    "    clfs.append(clf)\n",
    "    \n",
    "train_scores = [clf.score(pc_train, y_train) for clf in clfs]\n",
    "test_scores = [clf.score(pc_test, y_test) for clf in clfs]\n",
    "\n",
    "ind_melhor_arvore = len(test_scores) - test_scores[::-1].index(max(test_scores)) - 1\n",
    "melhor_arvore = clfs[ind_melhor_arvore]\n",
    "\n",
    "print(f'Acurácia da melhor árvore na base de treino:    {train_scores[ind_melhor_arvore]*100:.1f}')\n",
    "print(f'Acurácia da melhor árvore na base de teste:     {melhor_arvore.score(pc_test, y_test)*100:.1f}')\n",
    "\n",
    "melhor_arvore"
   ]
  },
  {
   "cell_type": "code",
   "execution_count": 42,
   "metadata": {},
   "outputs": [
    {
     "name": "stdout",
     "output_type": "stream",
     "text": [
      "Acurácia da melhor árvore na base de treino:    83.9\n",
      "Acurácia da melhor árvore na base de teste:     79.1\n",
      "CPU times: total: 12.3 s\n",
      "Wall time: 12.8 s\n"
     ]
    },
    {
     "data": {
      "text/plain": [
       "DecisionTreeClassifier(ccp_alpha=0.00155148581919708, random_state=2360873)"
      ]
     },
     "execution_count": 42,
     "metadata": {},
     "output_type": "execute_result"
    }
   ],
   "source": [
    "%%time\n",
    "prcomp = PCA().fit(X_train)\n",
    "\n",
    "n=5\n",
    "\n",
    "colunas = ['cp'+str(x+1) for x in list(range(n))]\n",
    "\n",
    "pc_train = pd.DataFrame(pc_treino[:,:n], columns = colunas)\n",
    "pc_test  = pd.DataFrame( pc_teste[:,:n], columns = colunas)\n",
    "\n",
    "\n",
    "pc_treino = prcomp.transform(X_train)\n",
    "pc_teste  = prcomp.transform(X_test)\n",
    "\n",
    "clf = DecisionTreeClassifier(random_state=1234).fit(pc_train, y_train)\n",
    "\n",
    "caminho = DecisionTreeClassifier(random_state=2360873, min_samples_leaf=20).cost_complexity_pruning_path(pc_train, y_train)\n",
    "ccp_alphas, impurities = caminho.ccp_alphas, caminho.impurities\n",
    "\n",
    "ccp_alphas = np.unique(ccp_alphas[ccp_alphas>=0])\n",
    "\n",
    "clfs = []\n",
    "for ccp_alpha in ccp_alphas:\n",
    "    clf = DecisionTreeClassifier(random_state=2360873, ccp_alpha=ccp_alpha).fit(pc_train, y_train)\n",
    "    clfs.append(clf)\n",
    "    \n",
    "train_scores = [clf.score(pc_train, y_train) for clf in clfs]\n",
    "test_scores = [clf.score(pc_test, y_test) for clf in clfs]\n",
    "\n",
    "ind_melhor_arvore = len(test_scores) - test_scores[::-1].index(max(test_scores)) - 1\n",
    "melhor_arvore = clfs[ind_melhor_arvore]\n",
    "\n",
    "print(f'Acurácia da melhor árvore na base de treino:    {train_scores[ind_melhor_arvore]*100:.1f}')\n",
    "print(f'Acurácia da melhor árvore na base de teste:     {melhor_arvore.score(pc_test, y_test)*100:.1f}')\n",
    "\n",
    "melhor_arvore"
   ]
  },
  {
   "cell_type": "code",
   "execution_count": 43,
   "metadata": {},
   "outputs": [
    {
     "name": "stdout",
     "output_type": "stream",
     "text": [
      "Acurácia da melhor árvore na base de treino:    90.5\n",
      "Acurácia da melhor árvore na base de teste:     83.0\n",
      "CPU times: total: 19.1 s\n",
      "Wall time: 19.5 s\n"
     ]
    },
    {
     "data": {
      "text/plain": [
       "DecisionTreeClassifier(ccp_alpha=0.0007106344940973073, random_state=2360873)"
      ]
     },
     "execution_count": 43,
     "metadata": {},
     "output_type": "execute_result"
    }
   ],
   "source": [
    "%%time\n",
    "prcomp = PCA().fit(X_train)\n",
    "\n",
    "n=10\n",
    "\n",
    "colunas = ['cp'+str(x+1) for x in list(range(n))]\n",
    "\n",
    "pc_train = pd.DataFrame(pc_treino[:,:n], columns = colunas)\n",
    "pc_test  = pd.DataFrame( pc_teste[:,:n], columns = colunas)\n",
    "\n",
    "\n",
    "pc_treino = prcomp.transform(X_train)\n",
    "pc_teste  = prcomp.transform(X_test)\n",
    "\n",
    "clf = DecisionTreeClassifier(random_state=1234).fit(pc_train, y_train)\n",
    "\n",
    "caminho = DecisionTreeClassifier(random_state=2360873, min_samples_leaf=20).cost_complexity_pruning_path(pc_train, y_train)\n",
    "ccp_alphas, impurities = caminho.ccp_alphas, caminho.impurities\n",
    "\n",
    "ccp_alphas = np.unique(ccp_alphas[ccp_alphas>=0])\n",
    "\n",
    "clfs = []\n",
    "for ccp_alpha in ccp_alphas:\n",
    "    clf = DecisionTreeClassifier(random_state=2360873, ccp_alpha=ccp_alpha).fit(pc_train, y_train)\n",
    "    clfs.append(clf)\n",
    "    \n",
    "train_scores = [clf.score(pc_train, y_train) for clf in clfs]\n",
    "test_scores = [clf.score(pc_test, y_test) for clf in clfs]\n",
    "\n",
    "ind_melhor_arvore = len(test_scores) - test_scores[::-1].index(max(test_scores)) - 1\n",
    "melhor_arvore = clfs[ind_melhor_arvore]\n",
    "\n",
    "print(f'Acurácia da melhor árvore na base de treino:    {train_scores[ind_melhor_arvore]*100:.1f}')\n",
    "print(f'Acurácia da melhor árvore na base de teste:     {melhor_arvore.score(pc_test, y_test)*100:.1f}')\n",
    "\n",
    "melhor_arvore"
   ]
  },
  {
   "cell_type": "code",
   "execution_count": 44,
   "metadata": {},
   "outputs": [
    {
     "name": "stdout",
     "output_type": "stream",
     "text": [
      "Acurácia da melhor árvore na base de treino:    91.3\n",
      "Acurácia da melhor árvore na base de teste:     82.9\n",
      "CPU times: total: 1min 34s\n",
      "Wall time: 1min 42s\n"
     ]
    },
    {
     "data": {
      "text/plain": [
       "DecisionTreeClassifier(ccp_alpha=0.0011378728230958123, random_state=2360873)"
      ]
     },
     "execution_count": 44,
     "metadata": {},
     "output_type": "execute_result"
    }
   ],
   "source": [
    "%%time\n",
    "prcomp = PCA().fit(X_train)\n",
    "\n",
    "n=50\n",
    "\n",
    "colunas = ['cp'+str(x+1) for x in list(range(n))]\n",
    "\n",
    "pc_train = pd.DataFrame(pc_treino[:,:n], columns = colunas)\n",
    "pc_test  = pd.DataFrame( pc_teste[:,:n], columns = colunas)\n",
    "\n",
    "\n",
    "pc_treino = prcomp.transform(X_train)\n",
    "pc_teste  = prcomp.transform(X_test)\n",
    "\n",
    "clf = DecisionTreeClassifier(random_state=1234).fit(pc_train, y_train)\n",
    "\n",
    "caminho = DecisionTreeClassifier(random_state=2360873, min_samples_leaf=20).cost_complexity_pruning_path(pc_train, y_train)\n",
    "ccp_alphas, impurities = caminho.ccp_alphas, caminho.impurities\n",
    "\n",
    "ccp_alphas = np.unique(ccp_alphas[ccp_alphas>=0])\n",
    "\n",
    "clfs = []\n",
    "for ccp_alpha in ccp_alphas:\n",
    "    clf = DecisionTreeClassifier(random_state=2360873, ccp_alpha=ccp_alpha).fit(pc_train, y_train)\n",
    "    clfs.append(clf)\n",
    "    \n",
    "train_scores = [clf.score(pc_train, y_train) for clf in clfs]\n",
    "test_scores = [clf.score(pc_test, y_test) for clf in clfs]\n",
    "\n",
    "ind_melhor_arvore = len(test_scores) - test_scores[::-1].index(max(test_scores)) - 1\n",
    "melhor_arvore = clfs[ind_melhor_arvore]\n",
    "\n",
    "print(f'Acurácia da melhor árvore na base de treino:    {train_scores[ind_melhor_arvore]*100:.1f}')\n",
    "print(f'Acurácia da melhor árvore na base de teste:     {melhor_arvore.score(pc_test, y_test)*100:.1f}')\n",
    "\n",
    "melhor_arvore"
   ]
  },
  {
   "cell_type": "markdown",
   "metadata": {},
   "source": [
    "## Conclua\n",
    "\n",
    "- O que aconteceu com a acurácia?\n",
    "- O que aconteceu com o tempo de processamento?"
   ]
  },
  {
   "cell_type": "code",
   "execution_count": null,
   "metadata": {},
   "outputs": [],
   "source": [
    "#Ambos acabam aumentando, é necessário encontrar o melhor equilíbrio"
   ]
  }
 ],
 "metadata": {
  "kernelspec": {
   "display_name": "Python 3 (ipykernel)",
   "language": "python",
   "name": "python3"
  },
  "language_info": {
   "codemirror_mode": {
    "name": "ipython",
    "version": 3
   },
   "file_extension": ".py",
   "mimetype": "text/x-python",
   "name": "python",
   "nbconvert_exporter": "python",
   "pygments_lexer": "ipython3",
   "version": "3.9.15"
  },
  "toc": {
   "base_numbering": 1,
   "nav_menu": {},
   "number_sections": true,
   "sideBar": true,
   "skip_h1_title": true,
   "title_cell": "Índice",
   "title_sidebar": "Conteúdo",
   "toc_cell": false,
   "toc_position": {},
   "toc_section_display": true,
   "toc_window_display": false
  },
  "varInspector": {
   "cols": {
    "lenName": 16,
    "lenType": 16,
    "lenVar": 40
   },
   "kernels_config": {
    "python": {
     "delete_cmd_postfix": "",
     "delete_cmd_prefix": "del ",
     "library": "var_list.py",
     "varRefreshCmd": "print(var_dic_list())"
    },
    "r": {
     "delete_cmd_postfix": ") ",
     "delete_cmd_prefix": "rm(",
     "library": "var_list.r",
     "varRefreshCmd": "cat(var_dic_list()) "
    }
   },
   "types_to_exclude": [
    "module",
    "function",
    "builtin_function_or_method",
    "instance",
    "_Feature"
   ],
   "window_display": false
  }
 },
 "nbformat": 4,
 "nbformat_minor": 4
}
